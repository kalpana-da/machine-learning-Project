{
 "cells": [
  {
   "cell_type": "code",
   "execution_count": null,
   "id": "4873d8ec-bb99-4e43-9bb4-8177f16e6629",
   "metadata": {},
   "outputs": [],
   "source": [
    "###### Theory Question ########"
   ]
  },
  {
   "cell_type": "markdown",
   "id": "e0ee2912",
   "metadata": {},
   "source": [
    "### 1. What is a Support Vector Machine (SVM)"
   ]
  },
  {
   "cell_type": "markdown",
   "id": "304976d0",
   "metadata": {},
   "source": [
    "A Support Vector Machine (SVM) is a supervised machine learning model used for classification and regression tasks. It finds the optimal hyperplane that maximally separates data into classes."
   ]
  },
  {
   "cell_type": "markdown",
   "id": "4b97387c",
   "metadata": {},
   "source": [
    "### 2. What is the difference between Hard Margin and Soft Margin SVM"
   ]
  },
  {
   "cell_type": "markdown",
   "id": "92794d1e",
   "metadata": {},
   "source": [
    "Hard Margin SVM assumes that the data is linearly separable and no misclassifications are allowed. Soft Margin SVM allows some misclassification to handle non-linearly separable data."
   ]
  },
  {
   "cell_type": "markdown",
   "id": "5fe19413",
   "metadata": {},
   "source": [
    "### 3. What is the mathematical intuition behind SVM"
   ]
  },
  {
   "cell_type": "markdown",
   "id": "71a8b58d",
   "metadata": {},
   "source": [
    "SVM aims to maximize the margin between the classes while minimizing classification error using a cost function and Lagrange multipliers."
   ]
  },
  {
   "cell_type": "markdown",
   "id": "6fe94e96",
   "metadata": {},
   "source": [
    "### 4. What is the role of Lagrange Multipliers in SVM"
   ]
  },
  {
   "cell_type": "markdown",
   "id": "ede553a6",
   "metadata": {},
   "source": [
    "Lagrange multipliers help in optimizing the SVM objective function under constraints, allowing transformation into a dual problem."
   ]
  },
  {
   "cell_type": "markdown",
   "id": "83f56df9",
   "metadata": {},
   "source": [
    "### 5. What are Support Vectors in SVM"
   ]
  },
  {
   "cell_type": "markdown",
   "id": "89fd378d",
   "metadata": {},
   "source": [
    "Support vectors are data points that lie closest to the decision boundary and directly influence its position."
   ]
  },
  {
   "cell_type": "markdown",
   "id": "a31c4a95",
   "metadata": {},
   "source": [
    "### 6. What is a Support Vector Classifier (SVC)"
   ]
  },
  {
   "cell_type": "markdown",
   "id": "3849adf1",
   "metadata": {},
   "source": [
    "SVC is an implementation of SVM for classification tasks."
   ]
  },
  {
   "cell_type": "markdown",
   "id": "2ca01e47",
   "metadata": {},
   "source": [
    "### 7. What is a Support Vector Regressor (SVR)"
   ]
  },
  {
   "cell_type": "markdown",
   "id": "e3e5f66c",
   "metadata": {},
   "source": [
    "SVR is the regression counterpart of SVM, which tries to fit the best line within a margin of tolerance."
   ]
  },
  {
   "cell_type": "markdown",
   "id": "94f887b8",
   "metadata": {},
   "source": [
    "### 8. What is the Kernel Trick in SVM"
   ]
  },
  {
   "cell_type": "markdown",
   "id": "fbe470af",
   "metadata": {},
   "source": [
    "Kernel trick allows SVM to operate in a high-dimensional feature space without explicitly computing the transformation, using functions like RBF, polynomial, etc."
   ]
  },
  {
   "cell_type": "markdown",
   "id": "e89b4fe3",
   "metadata": {},
   "source": [
    "### 9. Compare Linear Kernel, Polynomial Kernel, and RBF Kernel"
   ]
  },
  {
   "cell_type": "markdown",
   "id": "7e780475",
   "metadata": {},
   "source": [
    "Linear: Best for linearly separable data.\n",
    "Polynomial: Captures polynomial relationships.\n",
    "RBF: Works well for most datasets with non-linear decision boundaries."
   ]
  },
  {
   "cell_type": "markdown",
   "id": "39c4f229",
   "metadata": {},
   "source": [
    "### 10. What is the effect of the C parameter in SVM"
   ]
  },
  {
   "cell_type": "markdown",
   "id": "6c52c544",
   "metadata": {},
   "source": [
    "C controls the trade-off between margin maximization and classification error minimization. Smaller C creates a wider margin, larger C fits the training data better."
   ]
  },
  {
   "cell_type": "markdown",
   "id": "e8b89f16",
   "metadata": {},
   "source": [
    "### 11. What is the role of the Gamma parameter in RBF Kernel SVM"
   ]
  },
  {
   "cell_type": "markdown",
   "id": "5d0805ac",
   "metadata": {},
   "source": [
    "Gamma defines how far the influence of a single training example reaches. Low gamma means 'far', high gamma means 'close'."
   ]
  },
  {
   "cell_type": "markdown",
   "id": "62cb29d0",
   "metadata": {},
   "source": [
    "### 12. What is the Naïve Bayes classifier, and why is it called 'Naïve'"
   ]
  },
  {
   "cell_type": "markdown",
   "id": "0f994938",
   "metadata": {},
   "source": [
    "Naïve Bayes is a probabilistic classifier based on Bayes’ Theorem assuming independence between features, hence called 'naïve'."
   ]
  },
  {
   "cell_type": "markdown",
   "id": "0fe52eb3",
   "metadata": {},
   "source": [
    "### 13. What is Bayes’ Theorem"
   ]
  },
  {
   "cell_type": "markdown",
   "id": "abab809e",
   "metadata": {},
   "source": [
    "Bayes’ Theorem: P(A|B) = (P(B|A) * P(A)) / P(B)"
   ]
  },
  {
   "cell_type": "markdown",
   "id": "fc3c1aa4",
   "metadata": {},
   "source": [
    "### 14. Explain the differences between Gaussian Naïve Bayes, Multinomial Naïve Bayes, and Bernoulli Naïve Bayes"
   ]
  },
  {
   "cell_type": "markdown",
   "id": "194edcfd",
   "metadata": {},
   "source": [
    "Gaussian: For continuous data.\n",
    "Multinomial: For count data.\n",
    "Bernoulli: For binary data."
   ]
  },
  {
   "cell_type": "markdown",
   "id": "2f2fde10",
   "metadata": {},
   "source": [
    "### 15. When should you use Gaussian Naïve Bayes over other variants"
   ]
  },
  {
   "cell_type": "markdown",
   "id": "9cfd39a1",
   "metadata": {},
   "source": [
    "Use Gaussian Naïve Bayes when features are continuous and normally distributed."
   ]
  },
  {
   "cell_type": "markdown",
   "id": "86306d69",
   "metadata": {},
   "source": [
    "### 16. What are the key assumptions made by Naïve Bayes"
   ]
  },
  {
   "cell_type": "markdown",
   "id": "a00fc3e2",
   "metadata": {},
   "source": [
    "All features are independent and contribute equally to the outcome."
   ]
  },
  {
   "cell_type": "markdown",
   "id": "3652f990",
   "metadata": {},
   "source": [
    "### 17. What are the advantages and disadvantages of Naïve Bayes"
   ]
  },
  {
   "cell_type": "markdown",
   "id": "e65fdafe",
   "metadata": {},
   "source": [
    "Advantages: Fast, works well with high dimensional data.\n",
    "Disadvantages: Assumption of feature independence may reduce accuracy."
   ]
  },
  {
   "cell_type": "markdown",
   "id": "8312a492",
   "metadata": {},
   "source": [
    "### 18. Why is Naïve Bayes a good choice for text classification"
   ]
  },
  {
   "cell_type": "markdown",
   "id": "3d7a2059",
   "metadata": {},
   "source": [
    "It handles high dimensional inputs well and is efficient for word frequency features."
   ]
  },
  {
   "cell_type": "markdown",
   "id": "436b80aa",
   "metadata": {},
   "source": [
    "### 19. Compare SVM and Naïve Bayes for classification tasks"
   ]
  },
  {
   "cell_type": "markdown",
   "id": "14e70ae2",
   "metadata": {},
   "source": [
    "SVM works better on complex, high-dimensional data.\n",
    "Naïve Bayes is simpler and faster, best for text data."
   ]
  },
  {
   "cell_type": "markdown",
   "id": "f9f8b4ae",
   "metadata": {},
   "source": [
    "### 20. How does Laplace Smoothing help in Naïve Bayes?"
   ]
  },
  {
   "cell_type": "markdown",
   "id": "d1d1e56d",
   "metadata": {},
   "source": [
    "Laplace Smoothing prevents zero probabilities for words not seen in training but present in test data."
   ]
  },
  {
   "cell_type": "code",
   "execution_count": null,
   "id": "d0c19ce9-96b3-40ad-9589-708fa6d536de",
   "metadata": {},
   "outputs": [],
   "source": [
    "###### Practical Question ########"
   ]
  },
  {
   "cell_type": "markdown",
   "id": "ad02ab6d",
   "metadata": {},
   "source": [
    "### 21. Write a Python program to train an SVM Classifier on the Iris dataset and evaluate accuracy"
   ]
  },
  {
   "cell_type": "code",
   "execution_count": 45,
   "id": "ec86460b",
   "metadata": {},
   "outputs": [
    {
     "name": "stdout",
     "output_type": "stream",
     "text": [
      "Accuracy: 1.0\n"
     ]
    }
   ],
   "source": [
    "from sklearn import datasets\n",
    "from sklearn.model_selection import train_test_split\n",
    "from sklearn.svm import SVC\n",
    "from sklearn.metrics import accuracy_score\n",
    "\n",
    "# Load dataset\n",
    "iris = datasets.load_iris()\n",
    "X, y = iris.data, iris.target\n",
    "\n",
    "# Split into train/test\n",
    "X_train, X_test, y_train, y_test = train_test_split(X, y, test_size=0.3, random_state=42)\n",
    "\n",
    "# Train SVM\n",
    "model = SVC()\n",
    "model.fit(X_train, y_train)\n",
    "\n",
    "# Predict\n",
    "y_pred = model.predict(X_test)\n",
    "\n",
    "# Evaluate\n",
    "print(\"Accuracy:\", accuracy_score(y_test, y_pred))"
   ]
  },
  {
   "cell_type": "markdown",
   "id": "5808453d",
   "metadata": {},
   "source": [
    "### 22. Write a Python program to train two SVM classifiers with Linear and RBF kernels on the Wine dataset, then compare their accuracies"
   ]
  },
  {
   "cell_type": "code",
   "execution_count": 46,
   "id": "913c2401",
   "metadata": {},
   "outputs": [
    {
     "name": "stdout",
     "output_type": "stream",
     "text": [
      "Linear Kernel Accuracy: 0.9814814814814815\n",
      "RBF Kernel Accuracy: 0.7592592592592593\n"
     ]
    }
   ],
   "source": [
    "from sklearn import datasets\n",
    "from sklearn.model_selection import train_test_split\n",
    "from sklearn.svm import SVC\n",
    "from sklearn.metrics import accuracy_score\n",
    "\n",
    "# Load data\n",
    "wine = datasets.load_wine()\n",
    "X, y = wine.data, wine.target\n",
    "\n",
    "# Split data\n",
    "X_train, X_test, y_train, y_test = train_test_split(X, y, test_size=0.3, random_state=42)\n",
    "\n",
    "# Train SVM with linear kernel\n",
    "svm_linear = SVC(kernel='linear')\n",
    "svm_linear.fit(X_train, y_train)\n",
    "linear_acc = accuracy_score(y_test, svm_linear.predict(X_test))\n",
    "\n",
    "# Train SVM with RBF kernel\n",
    "svm_rbf = SVC(kernel='rbf')\n",
    "svm_rbf.fit(X_train, y_train)\n",
    "rbf_acc = accuracy_score(y_test, svm_rbf.predict(X_test))\n",
    "\n",
    "print(f\"Linear Kernel Accuracy: {linear_acc}\")\n",
    "print(f\"RBF Kernel Accuracy: {rbf_acc}\")"
   ]
  },
  {
   "cell_type": "markdown",
   "id": "9eac20b2",
   "metadata": {},
   "source": [
    "### 23. Write a Python program to train an SVM Regressor (SVR) on a housing dataset and evaluate it using Mean Squared Error (MSE)"
   ]
  },
  {
   "cell_type": "code",
   "execution_count": 48,
   "id": "39a0e0e2",
   "metadata": {},
   "outputs": [
    {
     "name": "stdout",
     "output_type": "stream",
     "text": [
      "Mean Squared Error: 0.34705834034323396\n"
     ]
    }
   ],
   "source": [
    "from sklearn.datasets import fetch_california_housing\n",
    "from sklearn.svm import SVR\n",
    "from sklearn.metrics import mean_squared_error\n",
    "from sklearn.model_selection import train_test_split\n",
    "from sklearn.preprocessing import StandardScaler\n",
    "\n",
    "# Load dataset\n",
    "data = fetch_california_housing()\n",
    "X, y = data.data, data.target\n",
    "\n",
    "# Scale features\n",
    "scaler = StandardScaler()\n",
    "X = scaler.fit_transform(X)\n",
    "\n",
    "# Split data\n",
    "X_train, X_test, y_train, y_test = train_test_split(X, y, test_size=0.3, random_state=42)\n",
    "\n",
    "# Train SVR\n",
    "svr = SVR()\n",
    "svr.fit(X_train, y_train)\n",
    "\n",
    "# Predict and evaluate\n",
    "y_pred = svr.predict(X_test)\n",
    "mse = mean_squared_error(y_test, y_pred)\n",
    "print(\"Mean Squared Error:\", mse)\n"
   ]
  },
  {
   "cell_type": "markdown",
   "id": "926102c1",
   "metadata": {},
   "source": [
    "### 24. Write a Python program to train an SVM Classifier with a Polynomial Kernel and visualize the decision boundary"
   ]
  },
  {
   "cell_type": "code",
   "execution_count": 49,
   "id": "c2dfe083",
   "metadata": {},
   "outputs": [
    {
     "data": {
      "image/png": "[encoded data removed]",
      "text/plain": [
       "<Figure size 640x480 with 1 Axes>"
      ]
     },
     "metadata": {},
     "output_type": "display_data"
    }
   ],
   "source": [
    "from sklearn.datasets import make_classification\n",
    "from sklearn.preprocessing import StandardScaler\n",
    "from sklearn.svm import SVC\n",
    "import matplotlib.pyplot as plt\n",
    "import numpy as np\n",
    "\n",
    "# Generate data\n",
    "X, y = make_classification(n_samples=100, n_features=2, n_classes=2, n_redundant=0, random_state=42)\n",
    "\n",
    "# Scale features\n",
    "scaler = StandardScaler()\n",
    "X = scaler.fit_transform(X)\n",
    "\n",
    "# Train SVM with polynomial kernel\n",
    "clf = SVC(kernel='poly', degree=3)\n",
    "clf.fit(X, y)\n",
    "\n",
    "# Plotting decision boundary\n",
    "def plot_decision_boundary(X, y, model):\n",
    "    h = 0.02\n",
    "    x_min, x_max = X[:, 0].min() - 1, X[:, 0].max() + 1\n",
    "    y_min, y_max = X[:, 1].min() - 1, X[:, 1].max() + 1\n",
    "    xx, yy = np.meshgrid(np.arange(x_min, x_max, h), np.arange(y_min, y_max, h))\n",
    "    Z = model.predict(np.c_[xx.ravel(), yy.ravel()])\n",
    "    Z = Z.reshape(xx.shape)\n",
    "    plt.contourf(xx, yy, Z, alpha=0.8)\n",
    "    plt.scatter(X[:, 0], X[:, 1], c=y, edgecolors='k')\n",
    "    plt.title(\"SVM with Polynomial Kernel\")\n",
    "    plt.show()\n",
    "\n",
    "plot_decision_boundary(X, y, clf)"
   ]
  },
  {
   "cell_type": "markdown",
   "id": "fdccb3b9",
   "metadata": {},
   "source": [
    "### 25. Write a Python program to train a Gaussian Naïve Bayes classifier on the Breast Cancer dataset and evaluate accuracy"
   ]
  },
  {
   "cell_type": "code",
   "execution_count": 50,
   "id": "f79e77f0",
   "metadata": {},
   "outputs": [
    {
     "name": "stdout",
     "output_type": "stream",
     "text": [
      "Accuracy: 0.9415204678362573\n"
     ]
    }
   ],
   "source": [
    "from sklearn.datasets import load_breast_cancer\n",
    "from sklearn.naive_bayes import GaussianNB\n",
    "from sklearn.model_selection import train_test_split\n",
    "from sklearn.metrics import accuracy_score\n",
    "\n",
    "# Load data\n",
    "data = load_breast_cancer()\n",
    "X, y = data.data, data.target\n",
    "\n",
    "# Train-test split\n",
    "X_train, X_test, y_train, y_test = train_test_split(X, y, test_size=0.3, random_state=42)\n",
    "\n",
    "# Train Gaussian Naive Bayes\n",
    "gnb = GaussianNB()\n",
    "gnb.fit(X_train, y_train)\n",
    "\n",
    "# Predict and evaluate\n",
    "y_pred = gnb.predict(X_test)\n",
    "print(\"Accuracy:\", accuracy_score(y_test, y_pred))\n"
   ]
  },
  {
   "cell_type": "markdown",
   "id": "8f151d3e",
   "metadata": {},
   "source": [
    "### 26. Write a Python program to train a Multinomial Naïve Bayes classifier for text classification using the 20 Newsgroups dataset"
   ]
  },
  {
   "cell_type": "code",
   "execution_count": 51,
   "id": "c9ea6d73",
   "metadata": {},
   "outputs": [
    {
     "name": "stdout",
     "output_type": "stream",
     "text": [
      "Accuracy: 0.8229749631811487\n"
     ]
    }
   ],
   "source": [
    "from sklearn.datasets import fetch_20newsgroups\n",
    "from sklearn.feature_extraction.text import CountVectorizer\n",
    "from sklearn.naive_bayes import MultinomialNB\n",
    "from sklearn.pipeline import make_pipeline\n",
    "from sklearn.model_selection import train_test_split\n",
    "from sklearn.metrics import accuracy_score\n",
    "\n",
    "# Load data\n",
    "data = fetch_20newsgroups(subset='train')\n",
    "X_train, X_test, y_train, y_test = train_test_split(data.data, data.target, test_size=0.3, random_state=42)\n",
    "\n",
    "# Build pipeline\n",
    "model = make_pipeline(CountVectorizer(), MultinomialNB())\n",
    "\n",
    "# Train and predict\n",
    "model.fit(X_train, y_train)\n",
    "y_pred = model.predict(X_test)\n",
    "\n",
    "# Evaluate\n",
    "print(\"Accuracy:\", accuracy_score(y_test, y_pred))"
   ]
  },
  {
   "cell_type": "markdown",
   "id": "46a07bee",
   "metadata": {},
   "source": [
    "### 27. Write a Python program to train an SVM Classifier with different C values and compare the decision boundaries visually"
   ]
  },
  {
   "cell_type": "code",
   "execution_count": 52,
   "id": "f61eea82",
   "metadata": {},
   "outputs": [
    {
     "data": {
      "image/png": "[encoded data removed]",
      "text/plain": [
       "<Figure size 1500x400 with 3 Axes>"
      ]
     },
     "metadata": {},
     "output_type": "display_data"
    }
   ],
   "source": [
    "import matplotlib.pyplot as plt\n",
    "from sklearn.datasets import make_classification\n",
    "from sklearn.svm import SVC\n",
    "from sklearn.preprocessing import StandardScaler\n",
    "import numpy as np\n",
    "\n",
    "# Generate data\n",
    "X, y = make_classification(n_samples=100, n_features=2, n_redundant=0, random_state=42)\n",
    "X = StandardScaler().fit_transform(X)\n",
    "\n",
    "# Different C values\n",
    "Cs = [0.1, 1, 10]\n",
    "plt.figure(figsize=(15, 4))\n",
    "\n",
    "for i, C in enumerate(Cs):\n",
    "    model = SVC(C=C, kernel='linear')\n",
    "    model.fit(X, y)\n",
    "\n",
    "    plt.subplot(1, 3, i + 1)\n",
    "    x_min, x_max = X[:, 0].min() - 1, X[:, 0].max() + 1\n",
    "    y_min, y_max = X[:, 1].min() - 1, X[:, 1].max() + 1\n",
    "    xx, yy = np.meshgrid(np.linspace(x_min, x_max, 200),\n",
    "                         np.linspace(y_min, y_max, 200))\n",
    "    Z = model.predict(np.c_[xx.ravel(), yy.ravel()])\n",
    "    Z = Z.reshape(xx.shape)\n",
    "    plt.contourf(xx, yy, Z, alpha=0.3)\n",
    "    plt.scatter(X[:, 0], X[:, 1], c=y)"
   ]
  },
  {
   "cell_type": "markdown",
   "id": "71573abb",
   "metadata": {},
   "source": [
    "### 28. Write a Python program to train a Bernoulli Naïve Bayes classifier for binary classification on a dataset with binary features"
   ]
  },
  {
   "cell_type": "code",
   "execution_count": 53,
   "id": "b3f7f1c8",
   "metadata": {},
   "outputs": [
    {
     "name": "stdout",
     "output_type": "stream",
     "text": [
      "Accuracy: 0.7966666666666666\n"
     ]
    }
   ],
   "source": [
    "from sklearn.naive_bayes import BernoulliNB\n",
    "from sklearn.datasets import make_classification\n",
    "from sklearn.model_selection import train_test_split\n",
    "from sklearn.preprocessing import Binarizer\n",
    "from sklearn.metrics import accuracy_score\n",
    "\n",
    "# Create dataset\n",
    "X, y = make_classification(n_samples=1000, n_features=20, random_state=42)\n",
    "X = Binarizer().fit_transform(X)\n",
    "\n",
    "# Split\n",
    "X_train, X_test, y_train, y_test = train_test_split(X, y, test_size=0.3, random_state=42)\n",
    "\n",
    "# Train model\n",
    "bnb = BernoulliNB()\n",
    "bnb.fit(X_train, y_train)\n",
    "\n",
    "# Evaluate\n",
    "y_pred = bnb.predict(X_test)\n",
    "print(\"Accuracy:\", accuracy_score(y_test, y_pred))\n"
   ]
  },
  {
   "cell_type": "markdown",
   "id": "18060f91",
   "metadata": {},
   "source": [
    "### 29. Write a Python program to apply feature scaling before training an SVM model and compare results with unscaled data"
   ]
  },
  {
   "cell_type": "code",
   "execution_count": 54,
   "id": "c98e9abd",
   "metadata": {},
   "outputs": [
    {
     "name": "stdout",
     "output_type": "stream",
     "text": [
      "Accuracy without scaling: 0.935672514619883\n",
      "Accuracy with scaling: 0.9766081871345029\n"
     ]
    }
   ],
   "source": [
    "from sklearn.datasets import load_breast_cancer\n",
    "from sklearn.model_selection import train_test_split\n",
    "from sklearn.svm import SVC\n",
    "from sklearn.preprocessing import StandardScaler\n",
    "from sklearn.metrics import accuracy_score\n",
    "\n",
    "# Load data\n",
    "data = load_breast_cancer()\n",
    "X, y = data.data, data.target\n",
    "\n",
    "# Train-test split\n",
    "X_train, X_test, y_train, y_test = train_test_split(X, y, test_size=0.3, random_state=42)\n",
    "\n",
    "# Unscaled model\n",
    "model_unscaled = SVC()\n",
    "model_unscaled.fit(X_train, y_train)\n",
    "unscaled_acc = accuracy_score(y_test, model_unscaled.predict(X_test))\n",
    "\n",
    "# Scaled model\n",
    "scaler = StandardScaler()\n",
    "X_train_scaled = scaler.fit_transform(X_train)\n",
    "X_test_scaled = scaler.transform(X_test)\n",
    "\n",
    "model_scaled = SVC()\n",
    "model_scaled.fit(X_train_scaled, y_train)\n",
    "scaled_acc = accuracy_score(y_test, model_scaled.predict(X_test_scaled))\n",
    "\n",
    "print(\"Accuracy without scaling:\", unscaled_acc)\n",
    "print(\"Accuracy with scaling:\", scaled_acc)\n"
   ]
  },
  {
   "cell_type": "markdown",
   "id": "65fa68c8",
   "metadata": {},
   "source": [
    "### 30. Write a Python program to train a Gaussian Naïve Bayes model and compare the predictions before and after Laplace Smoothing"
   ]
  },
  {
   "cell_type": "code",
   "execution_count": 55,
   "id": "0a274cf4",
   "metadata": {},
   "outputs": [
    {
     "name": "stdout",
     "output_type": "stream",
     "text": [
      "Accuracy without Laplace smoothing (default): 0.9777777777777777\n",
      "Accuracy with custom priors (smoothing): 0.9777777777777777\n"
     ]
    }
   ],
   "source": [
    "from sklearn.datasets import load_iris\n",
    "from sklearn.naive_bayes import GaussianNB\n",
    "from sklearn.model_selection import train_test_split\n",
    "from sklearn.metrics import accuracy_score\n",
    "import numpy as np\n",
    "\n",
    "# Load data\n",
    "data = load_iris()\n",
    "X, y = data.data, data.target\n",
    "\n",
    "# Split\n",
    "X_train, X_test, y_train, y_test = train_test_split(X, y, test_size=0.3, random_state=42)\n",
    "\n",
    "# Train without smoothing (default)\n",
    "gnb = GaussianNB()\n",
    "gnb.fit(X_train, y_train)\n",
    "y_pred = gnb.predict(X_test)\n",
    "\n",
    "# Evaluate\n",
    "print(\"Accuracy without Laplace smoothing (default):\", accuracy_score(y_test, y_pred))\n",
    "\n",
    "# Laplace smoothing does not directly apply to GaussianNB, but can be emulated by altering variance or priors\n",
    "# Here we show custom priors to adjust smoothing effect\n",
    "priors = np.array([0.3, 0.4, 0.3])\n",
    "gnb_smooth = GaussianNB(priors=priors)\n",
    "gnb_smooth.fit(X_train, y_train)\n",
    "y_pred_smooth = gnb_smooth.predict(X_test)\n",
    "\n",
    "print(\"Accuracy with custom priors (smoothing):\", accuracy_score(y_test, y_pred_smooth))\n"
   ]
  },
  {
   "cell_type": "markdown",
   "id": "28dccbf4",
   "metadata": {},
   "source": [
    "### 31. Write a Python program to train an SVM Classifier and use GridSearchCV to tune the hyperparameters (C, gamma, kernel)"
   ]
  },
  {
   "cell_type": "code",
   "execution_count": 56,
   "id": "ae41a682",
   "metadata": {},
   "outputs": [
    {
     "name": "stdout",
     "output_type": "stream",
     "text": [
      "Fitting 5 folds for each of 60 candidates, totalling 300 fits\n",
      "Best Parameters: {'C': 0.1, 'gamma': 1, 'kernel': 'poly'}\n",
      "Best Cross-Validation Score: 0.9619047619047618\n",
      "\n",
      "Classification Report on Test Set:\n",
      "              precision    recall  f1-score   support\n",
      "\n",
      "           0       1.00      1.00      1.00        19\n",
      "           1       0.93      1.00      0.96        13\n",
      "           2       1.00      0.92      0.96        13\n",
      "\n",
      "    accuracy                           0.98        45\n",
      "   macro avg       0.98      0.97      0.97        45\n",
      "weighted avg       0.98      0.98      0.98        45\n",
      "\n"
     ]
    }
   ],
   "source": [
    "from sklearn import datasets\n",
    "from sklearn.model_selection import train_test_split, GridSearchCV\n",
    "from sklearn.preprocessing import StandardScaler\n",
    "from sklearn.svm import SVC\n",
    "from sklearn.metrics import classification_report\n",
    "\n",
    "# Load dataset (e.g., Iris dataset)\n",
    "iris = datasets.load_iris()\n",
    "X, y = iris.data, iris.target\n",
    "\n",
    "# Split into training and test sets\n",
    "X_train, X_test, y_train, y_test = train_test_split(X, y, test_size=0.3, random_state=42)\n",
    "\n",
    "# Standardize features\n",
    "scaler = StandardScaler()\n",
    "X_train = scaler.fit_transform(X_train)\n",
    "X_test = scaler.transform(X_test)\n",
    "\n",
    "# Define SVM classifier\n",
    "svm = SVC()\n",
    "\n",
    "# Define parameter grid for GridSearchCV\n",
    "param_grid = {\n",
    "    'C': [0.1, 1, 10, 100],\n",
    "    'gamma': ['scale', 0.001, 0.01, 0.1, 1],\n",
    "    'kernel': ['linear', 'rbf', 'poly']\n",
    "}\n",
    "\n",
    "# Perform grid search with 5-fold cross-validation\n",
    "grid_search = GridSearchCV(estimator=svm, param_grid=param_grid, cv=5, verbose=1, n_jobs=-1)\n",
    "grid_search.fit(X_train, y_train)\n",
    "\n",
    "# Best parameters and score\n",
    "print(\"Best Parameters:\", grid_search.best_params_)\n",
    "print(\"Best Cross-Validation Score:\", grid_search.best_score_)\n",
    "\n",
    "# Evaluate on test set\n",
    "best_model = grid_search.best_estimator_\n",
    "y_pred = best_model.predict(X_test)\n",
    "print(\"\\nClassification Report on Test Set:\")\n",
    "print(classification_report(y_test, y_pred))\n"
   ]
  },
  {
   "cell_type": "markdown",
   "id": "51a0820c",
   "metadata": {},
   "source": [
    "### 32. Write a Python program to train an SVM Classifier on an imbalanced dataset and apply class weighting and check it improve accuracy"
   ]
  },
  {
   "cell_type": "code",
   "execution_count": 57,
   "id": "e458e1a0",
   "metadata": {},
   "outputs": [
    {
     "name": "stdout",
     "output_type": "stream",
     "text": [
      "=== Without Class Weighting ===\n",
      "Accuracy: 0.9366666666666666\n",
      "              precision    recall  f1-score   support\n",
      "\n",
      "           0       0.95      0.98      0.97       275\n",
      "           1       0.67      0.48      0.56        25\n",
      "\n",
      "    accuracy                           0.94       300\n",
      "   macro avg       0.81      0.73      0.76       300\n",
      "weighted avg       0.93      0.94      0.93       300\n",
      "\n",
      "=== With Class Weighting (balanced) ===\n",
      "Accuracy: 0.92\n",
      "              precision    recall  f1-score   support\n",
      "\n",
      "           0       0.97      0.95      0.96       275\n",
      "           1       0.52      0.64      0.57        25\n",
      "\n",
      "    accuracy                           0.92       300\n",
      "   macro avg       0.74      0.79      0.76       300\n",
      "weighted avg       0.93      0.92      0.92       300\n",
      "\n"
     ]
    }
   ],
   "source": [
    "from sklearn.datasets import make_classification\n",
    "from sklearn.model_selection import train_test_split\n",
    "from sklearn.preprocessing import StandardScaler\n",
    "from sklearn.svm import SVC\n",
    "from sklearn.metrics import classification_report, accuracy_score\n",
    "\n",
    "# Step 1: Create an imbalanced dataset\n",
    "X, y = make_classification(n_samples=1000, n_features=20, n_classes=2,\n",
    "                           weights=[0.9, 0.1], flip_y=0, random_state=42)\n",
    "\n",
    "# Step 2: Split the dataset\n",
    "X_train, X_test, y_train, y_test = train_test_split(X, y, test_size=0.3, random_state=42)\n",
    "\n",
    "# Step 3: Scale the features\n",
    "scaler = StandardScaler()\n",
    "X_train = scaler.fit_transform(X_train)\n",
    "X_test = scaler.transform(X_test)\n",
    "\n",
    "# Step 4: Train SVM without class weighting\n",
    "svm_default = SVC()\n",
    "svm_default.fit(X_train, y_train)\n",
    "y_pred_default = svm_default.predict(X_test)\n",
    "\n",
    "# Step 5: Train SVM with class_weight='balanced'\n",
    "svm_weighted = SVC(class_weight='balanced')\n",
    "svm_weighted.fit(X_train, y_train)\n",
    "y_pred_weighted = svm_weighted.predict(X_test)\n",
    "\n",
    "# Step 6: Evaluation\n",
    "print(\"=== Without Class Weighting ===\")\n",
    "print(\"Accuracy:\", accuracy_score(y_test, y_pred_default))\n",
    "print(classification_report(y_test, y_pred_default))\n",
    "\n",
    "print(\"=== With Class Weighting (balanced) ===\")\n",
    "print(\"Accuracy:\", accuracy_score(y_test, y_pred_weighted))\n",
    "print(classification_report(y_test, y_pred_weighted))\n"
   ]
  },
  {
   "cell_type": "markdown",
   "id": "93ca8519",
   "metadata": {},
   "source": [
    "### 33. Write a Python program to implement a Naïve Bayes classifier for spam detection using email data"
   ]
  },
  {
   "cell_type": "code",
   "execution_count": 60,
   "id": "f2d3874f",
   "metadata": {},
   "outputs": [
    {
     "name": "stdout",
     "output_type": "stream",
     "text": [
      "Accuracy: 0.3333333333333333\n",
      "\n",
      "Classification Report:\n",
      "               precision    recall  f1-score   support\n",
      "\n",
      "           0       0.00      0.00      0.00         2\n",
      "           1       0.33      1.00      0.50         1\n",
      "\n",
      "    accuracy                           0.33         3\n",
      "   macro avg       0.17      0.50      0.25         3\n",
      "weighted avg       0.11      0.33      0.17         3\n",
      "\n"
     ]
    },
    {
     "name": "stderr",
     "output_type": "stream",
     "text": [
      "C:\\Users\\91922\\anaconda3\\Lib\\site-packages\\sklearn\\metrics\\_classification.py:1531: UndefinedMetricWarning: Precision is ill-defined and being set to 0.0 in labels with no predicted samples. Use `zero_division` parameter to control this behavior.\n",
      "  _warn_prf(average, modifier, f\"{metric.capitalize()} is\", len(result))\n",
      "C:\\Users\\91922\\anaconda3\\Lib\\site-packages\\sklearn\\metrics\\_classification.py:1531: UndefinedMetricWarning: Precision is ill-defined and being set to 0.0 in labels with no predicted samples. Use `zero_division` parameter to control this behavior.\n",
      "  _warn_prf(average, modifier, f\"{metric.capitalize()} is\", len(result))\n",
      "C:\\Users\\91922\\anaconda3\\Lib\\site-packages\\sklearn\\metrics\\_classification.py:1531: UndefinedMetricWarning: Precision is ill-defined and being set to 0.0 in labels with no predicted samples. Use `zero_division` parameter to control this behavior.\n",
      "  _warn_prf(average, modifier, f\"{metric.capitalize()} is\", len(result))\n"
     ]
    }
   ],
   "source": [
    "from sklearn.model_selection import train_test_split\n",
    "from sklearn.feature_extraction.text import CountVectorizer\n",
    "from sklearn.naive_bayes import MultinomialNB\n",
    "from sklearn.metrics import accuracy_score, classification_report\n",
    "\n",
    "# Sample email dataset (you can replace this with a real dataset)\n",
    "emails = [\n",
    "    \"Win a $1000 prize now!\", \"Important update from your bank\", \"You have won free lottery tickets!\",\n",
    "    \"Let's meet for lunch\", \"Get cheap meds online\", \"Are you free this weekend?\",\n",
    "    \"Congratulations! You have been selected\", \"Urgent: account verification required\", \n",
    "    \"Call me when you get this\", \"Exclusive offer just for you\"\n",
    "]\n",
    "labels = [1, 1, 1, 0, 1, 0, 1, 1, 0, 1]  # 1 = spam, 0 = not spam\n",
    "\n",
    "# Split data\n",
    "X_train, X_test, y_train, y_test = train_test_split(emails, labels, test_size=0.3, random_state=42)\n",
    "\n",
    "# Vectorize text\n",
    "vectorizer = CountVectorizer()\n",
    "X_train_vec = vectorizer.fit_transform(X_train)\n",
    "X_test_vec = vectorizer.transform(X_test)\n",
    "\n",
    "# Train Naive Bayes\n",
    "model = MultinomialNB()\n",
    "model.fit(X_train_vec, y_train)\n",
    "\n",
    "# Predict and evaluate\n",
    "y_pred = model.predict(X_test_vec)\n",
    "print(\"Accuracy:\", accuracy_score(y_test, y_pred))\n",
    "print(\"\\nClassification Report:\\n\", classification_report(y_test, y_pred))\n"
   ]
  },
  {
   "cell_type": "markdown",
   "id": "be108aff",
   "metadata": {},
   "source": [
    "### 34. Write a Python program to train an SVM Classifier and a Naïve Bayes Classifier on the same dataset and compare their accuracy"
   ]
  },
  {
   "cell_type": "code",
   "execution_count": 61,
   "id": "18989abd",
   "metadata": {},
   "outputs": [
    {
     "name": "stdout",
     "output_type": "stream",
     "text": [
      "Accuracy: 0.9919282511210762\n",
      "\n",
      "Classification Report:\n",
      "              precision    recall  f1-score   support\n",
      "\n",
      "         Ham       0.99      1.00      1.00       966\n",
      "        Spam       1.00      0.94      0.97       149\n",
      "\n",
      "    accuracy                           0.99      1115\n",
      "   macro avg       1.00      0.97      0.98      1115\n",
      "weighted avg       0.99      0.99      0.99      1115\n",
      "\n"
     ]
    }
   ],
   "source": [
    "import pandas as pd\n",
    "from sklearn.model_selection import train_test_split\n",
    "from sklearn.feature_extraction.text import CountVectorizer\n",
    "from sklearn.naive_bayes import MultinomialNB\n",
    "from sklearn.metrics import accuracy_score, classification_report\n",
    "\n",
    "# Step 1: Load dataset\n",
    "# You can replace this with your own email dataset\n",
    "# For demo: load SMS Spam Collection dataset (label, message)\n",
    "url = \"https://raw.githubusercontent.com/justmarkham/pycon-2016-tutorial/master/data/sms.tsv\"\n",
    "df = pd.read_table(url, header=None, names=['label', 'message'])\n",
    "\n",
    "# Convert labels to binary (ham = 0, spam = 1)\n",
    "df['label'] = df['label'].map({'ham': 0, 'spam': 1})\n",
    "\n",
    "# Step 2: Split data\n",
    "X_train, X_test, y_train, y_test = train_test_split(df['message'], df['label'], test_size=0.2, random_state=42)\n",
    "\n",
    "# Step 3: Convert text to features using Bag of Words\n",
    "vectorizer = CountVectorizer()\n",
    "X_train_counts = vectorizer.fit_transform(X_train)\n",
    "X_test_counts = vectorizer.transform(X_test)\n",
    "\n",
    "# Step 4: Train Naive Bayes classifier\n",
    "model = MultinomialNB()\n",
    "model.fit(X_train_counts, y_train)\n",
    "\n",
    "# Step 5: Predict and evaluate\n",
    "y_pred = model.predict(X_test_counts)\n",
    "print(\"Accuracy:\", accuracy_score(y_test, y_pred))\n",
    "print(\"\\nClassification Report:\")\n",
    "print(classification_report(y_test, y_pred, target_names=['Ham', 'Spam']))\n"
   ]
  },
  {
   "cell_type": "markdown",
   "id": "b1d45b45",
   "metadata": {},
   "source": [
    "### 35. Write a Python program to perform feature selection before training a Naïve Bayes classifier and compare results"
   ]
  },
  {
   "cell_type": "code",
   "execution_count": 62,
   "id": "76e87ade",
   "metadata": {},
   "outputs": [
    {
     "name": "stdout",
     "output_type": "stream",
     "text": [
      "=== Naïve Bayes WITHOUT Feature Selection ===\n",
      "Accuracy: 0.8296296296296296\n",
      "              precision    recall  f1-score   support\n",
      "\n",
      "           0       1.00      0.98      0.99        53\n",
      "           1       0.82      0.66      0.73        50\n",
      "           2       0.85      0.60      0.70        47\n",
      "           3       0.98      0.74      0.84        54\n",
      "           4       1.00      0.80      0.89        60\n",
      "           5       0.94      0.92      0.93        66\n",
      "           6       0.88      0.98      0.93        53\n",
      "           7       0.65      0.98      0.78        55\n",
      "           8       0.54      0.88      0.67        43\n",
      "           9       0.86      0.71      0.78        59\n",
      "\n",
      "    accuracy                           0.83       540\n",
      "   macro avg       0.85      0.83      0.82       540\n",
      "weighted avg       0.86      0.83      0.83       540\n",
      "\n",
      "\n",
      "=== Naïve Bayes WITH Feature Selection (Top 20 Features) ===\n",
      "Accuracy: 0.7796296296296297\n",
      "              precision    recall  f1-score   support\n",
      "\n",
      "           0       1.00      0.85      0.92        53\n",
      "           1       0.82      0.46      0.59        50\n",
      "           2       0.74      0.91      0.82        47\n",
      "           3       0.88      0.78      0.82        54\n",
      "           4       0.88      0.93      0.90        60\n",
      "           5       0.94      0.47      0.63        66\n",
      "           6       0.98      0.96      0.97        53\n",
      "           7       0.48      1.00      0.65        55\n",
      "           8       0.67      0.67      0.67        43\n",
      "           9       0.85      0.78      0.81        59\n",
      "\n",
      "    accuracy                           0.78       540\n",
      "   macro avg       0.82      0.78      0.78       540\n",
      "weighted avg       0.83      0.78      0.78       540\n",
      "\n"
     ]
    }
   ],
   "source": [
    "from sklearn.datasets import load_digits\n",
    "from sklearn.model_selection import train_test_split\n",
    "from sklearn.naive_bayes import GaussianNB\n",
    "from sklearn.feature_selection import SelectKBest, chi2\n",
    "from sklearn.metrics import accuracy_score, classification_report\n",
    "from sklearn.preprocessing import MinMaxScaler\n",
    "\n",
    "# Step 1: Load dataset\n",
    "data = load_digits()\n",
    "X, y = data.data, data.target\n",
    "\n",
    "# Step 2: Scale features (chi2 requires non-negative features)\n",
    "scaler = MinMaxScaler()\n",
    "X_scaled = scaler.fit_transform(X)\n",
    "\n",
    "# Step 3: Split data\n",
    "X_train, X_test, y_train, y_test = train_test_split(X_scaled, y, test_size=0.3, random_state=42)\n",
    "\n",
    "# Step 4: Train Naive Bayes WITHOUT feature selection\n",
    "model_all = GaussianNB()\n",
    "model_all.fit(X_train, y_train)\n",
    "pred_all = model_all.predict(X_test)\n",
    "\n",
    "# Step 5: Feature Selection (select top 20 features)\n",
    "selector = SelectKBest(score_func=chi2, k=20)\n",
    "X_train_selected = selector.fit_transform(X_train, y_train)\n",
    "X_test_selected = selector.transform(X_test)\n",
    "\n",
    "# Step 6: Train Naive Bayes WITH selected features\n",
    "model_selected = GaussianNB()\n",
    "model_selected.fit(X_train_selected, y_train)\n",
    "pred_selected = model_selected.predict(X_test_selected)\n",
    "\n",
    "# Step 7: Compare Results\n",
    "print(\"=== Naïve Bayes WITHOUT Feature Selection ===\")\n",
    "print(\"Accuracy:\", accuracy_score(y_test, pred_all))\n",
    "print(classification_report(y_test, pred_all))\n",
    "\n",
    "print(\"\\n=== Naïve Bayes WITH Feature Selection (Top 20 Features) ===\")\n",
    "print(\"Accuracy:\", accuracy_score(y_test, pred_selected))\n",
    "print(classification_report(y_test, pred_selected))\n"
   ]
  },
  {
   "cell_type": "markdown",
   "id": "5a3eab69",
   "metadata": {},
   "source": [
    "### 36. Write a Python program to train an SVM Classifier using One-vs-Rest (OvR) and One-vs-One (OvO) strategies on the Wine dataset and compare their accuracy"
   ]
  },
  {
   "cell_type": "code",
   "execution_count": 20,
   "id": "cdf560b9",
   "metadata": {},
   "outputs": [
    {
     "name": "stdout",
     "output_type": "stream",
     "text": [
      "=== One-vs-Rest (OvR) ===\n",
      "Accuracy: 0.9814814814814815\n",
      "              precision    recall  f1-score   support\n",
      "\n",
      "           0       0.95      1.00      0.97        19\n",
      "           1       1.00      0.95      0.98        21\n",
      "           2       1.00      1.00      1.00        14\n",
      "\n",
      "    accuracy                           0.98        54\n",
      "   macro avg       0.98      0.98      0.98        54\n",
      "weighted avg       0.98      0.98      0.98        54\n",
      "\n",
      "=== One-vs-One (OvO) ===\n",
      "Accuracy: 0.9814814814814815\n",
      "              precision    recall  f1-score   support\n",
      "\n",
      "           0       1.00      1.00      1.00        19\n",
      "           1       1.00      0.95      0.98        21\n",
      "           2       0.93      1.00      0.97        14\n",
      "\n",
      "    accuracy                           0.98        54\n",
      "   macro avg       0.98      0.98      0.98        54\n",
      "weighted avg       0.98      0.98      0.98        54\n",
      "\n"
     ]
    }
   ],
   "source": [
    "from sklearn.datasets import load_wine\n",
    "from sklearn.model_selection import train_test_split\n",
    "from sklearn.preprocessing import StandardScaler\n",
    "from sklearn.svm import SVC\n",
    "from sklearn.multiclass import OneVsRestClassifier, OneVsOneClassifier\n",
    "from sklearn.metrics import accuracy_score, classification_report\n",
    "\n",
    "# Step 1: Load dataset\n",
    "data = load_wine()\n",
    "X, y = data.data, data.target\n",
    "\n",
    "# Step 2: Split dataset\n",
    "X_train, X_test, y_train, y_test = train_test_split(X, y, test_size=0.3, random_state=42)\n",
    "\n",
    "# Step 3: Feature scaling\n",
    "scaler = StandardScaler()\n",
    "X_train = scaler.fit_transform(X_train)\n",
    "X_test = scaler.transform(X_test)\n",
    "\n",
    "# Step 4: One-vs-Rest (OvR) strategy\n",
    "ovr_model = OneVsRestClassifier(SVC(kernel='linear'))\n",
    "ovr_model.fit(X_train, y_train)\n",
    "ovr_preds = ovr_model.predict(X_test)\n",
    "\n",
    "# Step 5: One-vs-One (OvO) strategy\n",
    "ovo_model = OneVsOneClassifier(SVC(kernel='linear'))\n",
    "ovo_model.fit(X_train, y_train)\n",
    "ovo_preds = ovo_model.predict(X_test)\n",
    "\n",
    "# Step 6: Compare Accuracy\n",
    "print(\"=== One-vs-Rest (OvR) ===\")\n",
    "print(\"Accuracy:\", accuracy_score(y_test, ovr_preds))\n",
    "print(classification_report(y_test, ovr_preds))\n",
    "\n",
    "print(\"=== One-vs-One (OvO) ===\")\n",
    "print(\"Accuracy:\", accuracy_score(y_test, ovo_preds))\n",
    "print(classification_report(y_test, ovo_preds))\n"
   ]
  },
  {
   "cell_type": "markdown",
   "id": "1224fc69",
   "metadata": {},
   "source": [
    "### 37. Write a Python program to train an SVM Classifier using Linear, Polynomial, and RBF kernels on the Breast Cancer dataset and compare their accuracy"
   ]
  },
  {
   "cell_type": "code",
   "execution_count": 24,
   "id": "41e24f22",
   "metadata": {},
   "outputs": [
    {
     "name": "stdout",
     "output_type": "stream",
     "text": [
      "=== One-vs-Rest (OvR) ===\n",
      "Accuracy: 0.9814814814814815\n",
      "              precision    recall  f1-score   support\n",
      "\n",
      "           0       0.95      1.00      0.97        19\n",
      "           1       1.00      0.95      0.98        21\n",
      "           2       1.00      1.00      1.00        14\n",
      "\n",
      "    accuracy                           0.98        54\n",
      "   macro avg       0.98      0.98      0.98        54\n",
      "weighted avg       0.98      0.98      0.98        54\n",
      "\n",
      "=== One-vs-One (OvO) ===\n",
      "Accuracy: 0.9814814814814815\n",
      "              precision    recall  f1-score   support\n",
      "\n",
      "           0       1.00      1.00      1.00        19\n",
      "           1       1.00      0.95      0.98        21\n",
      "           2       0.93      1.00      0.97        14\n",
      "\n",
      "    accuracy                           0.98        54\n",
      "   macro avg       0.98      0.98      0.98        54\n",
      "weighted avg       0.98      0.98      0.98        54\n",
      "\n"
     ]
    }
   ],
   "source": [
    "from sklearn.datasets import load_wine\n",
    "from sklearn.model_selection import train_test_split\n",
    "from sklearn.preprocessing import StandardScaler\n",
    "from sklearn.svm import SVC\n",
    "from sklearn.multiclass import OneVsRestClassifier, OneVsOneClassifier\n",
    "from sklearn.metrics import accuracy_score, classification_report\n",
    "\n",
    "# Step 1: Load dataset\n",
    "data = load_wine()\n",
    "X, y = data.data, data.target\n",
    "\n",
    "# Step 2: Split dataset\n",
    "X_train, X_test, y_train, y_test = train_test_split(X, y, test_size=0.3, random_state=42)\n",
    "\n",
    "# Step 3: Feature scaling\n",
    "scaler = StandardScaler()\n",
    "X_train = scaler.fit_transform(X_train)\n",
    "X_test = scaler.transform(X_test)\n",
    "\n",
    "# Step 4: One-vs-Rest (OvR) strategy\n",
    "ovr_model = OneVsRestClassifier(SVC(kernel='linear'))\n",
    "ovr_model.fit(X_train, y_train)\n",
    "ovr_preds = ovr_model.predict(X_test)\n",
    "\n",
    "# Step 5: One-vs-One (OvO) strategy\n",
    "ovo_model = OneVsOneClassifier(SVC(kernel='linear'))\n",
    "ovo_model.fit(X_train, y_train)\n",
    "ovo_preds = ovo_model.predict(X_test)\n",
    "\n",
    "# Step 6: Compare Accuracy\n",
    "print(\"=== One-vs-Rest (OvR) ===\")\n",
    "print(\"Accuracy:\", accuracy_score(y_test, ovr_preds))\n",
    "print(classification_report(y_test, ovr_preds))\n",
    "\n",
    "print(\"=== One-vs-One (OvO) ===\")\n",
    "print(\"Accuracy:\", accuracy_score(y_test, ovo_preds))\n",
    "print(classification_report(y_test, ovo_preds))\n"
   ]
  },
  {
   "cell_type": "markdown",
   "id": "e7fcb76c",
   "metadata": {},
   "source": [
    "### 38. Write a Python program to train an SVM Classifier using Stratified K-Fold Cross-Validation and compute the average accuracy"
   ]
  },
  {
   "cell_type": "code",
   "execution_count": 25,
   "id": "70472796",
   "metadata": {},
   "outputs": [
    {
     "name": "stdout",
     "output_type": "stream",
     "text": [
      "Accuracy for each fold: [0.99122807 0.93859649 0.97368421 0.99122807 0.98230088]\n",
      "Average Accuracy: 0.9754075454122031\n"
     ]
    }
   ],
   "source": [
    "from sklearn.datasets import load_breast_cancer\n",
    "from sklearn.svm import SVC\n",
    "from sklearn.model_selection import StratifiedKFold, cross_val_score\n",
    "from sklearn.preprocessing import StandardScaler\n",
    "import numpy as np\n",
    "\n",
    "# Load dataset\n",
    "data = load_breast_cancer()\n",
    "X, y = data.data, data.target\n",
    "\n",
    "# Scale features\n",
    "scaler = StandardScaler()\n",
    "X = scaler.fit_transform(X)\n",
    "\n",
    "# Define Stratified K-Fold\n",
    "skf = StratifiedKFold(n_splits=5, shuffle=True, random_state=42)\n",
    "\n",
    "# Initialize SVM model\n",
    "model = SVC(kernel='rbf')\n",
    "\n",
    "# Perform cross-validation\n",
    "scores = cross_val_score(model, X, y, cv=skf, scoring='accuracy')\n",
    "\n",
    "# Output results\n",
    "print(\"Accuracy for each fold:\", scores)\n",
    "print(\"Average Accuracy:\", np.mean(scores))\n"
   ]
  },
  {
   "cell_type": "markdown",
   "id": "9907a06f",
   "metadata": {},
   "source": [
    "### 39. Write a Python program to train a Naïve Bayes classifier using different prior probabilities and compare performance"
   ]
  },
  {
   "cell_type": "code",
   "execution_count": 26,
   "id": "086c0bc9",
   "metadata": {},
   "outputs": [
    {
     "name": "stdout",
     "output_type": "stream",
     "text": [
      "Default Priors Accuracy: 0.9777777777777777\n",
      "Custom Priors Accuracy: 0.9777777777777777\n"
     ]
    }
   ],
   "source": [
    "from sklearn.datasets import load_iris\n",
    "from sklearn.model_selection import train_test_split\n",
    "from sklearn.naive_bayes import GaussianNB\n",
    "from sklearn.metrics import accuracy_score\n",
    "\n",
    "# Load dataset\n",
    "data = load_iris()\n",
    "X, y = data.data, data.target\n",
    "\n",
    "# Split dataset\n",
    "X_train, X_test, y_train, y_test = train_test_split(X, y, test_size=0.3, random_state=42)\n",
    "\n",
    "# Default GaussianNB (auto priors)\n",
    "gnb_default = GaussianNB()\n",
    "gnb_default.fit(X_train, y_train)\n",
    "y_pred_default = gnb_default.predict(X_test)\n",
    "acc_default = accuracy_score(y_test, y_pred_default)\n",
    "\n",
    "# Custom priors (example: uniform distribution)\n",
    "priors = [1/3, 1/3, 1/3]\n",
    "gnb_custom = GaussianNB(priors=priors)\n",
    "gnb_custom.fit(X_train, y_train)\n",
    "y_pred_custom = gnb_custom.predict(X_test)\n",
    "acc_custom = accuracy_score(y_test, y_pred_custom)\n",
    "\n",
    "print(\"Default Priors Accuracy:\", acc_default)\n",
    "print(\"Custom Priors Accuracy:\", acc_custom)\n"
   ]
  },
  {
   "cell_type": "markdown",
   "id": "fdcc4197",
   "metadata": {},
   "source": [
    "### 40. Write a Python program to perform Recursive Feature Elimination (RFE) before training an SVM Classifier and compare accuracy"
   ]
  },
  {
   "cell_type": "code",
   "execution_count": 38,
   "id": "4d0ac6f1",
   "metadata": {},
   "outputs": [
    {
     "name": "stdout",
     "output_type": "stream",
     "text": [
      "Accuracy without RFE: 0.9766081871345029\n",
      "Accuracy with RFE (10 features): 0.9649122807017544\n"
     ]
    }
   ],
   "source": [
    "from sklearn.datasets import load_breast_cancer\n",
    "from sklearn.model_selection import train_test_split\n",
    "from sklearn.svm import SVC\n",
    "from sklearn.feature_selection import RFE\n",
    "from sklearn.preprocessing import StandardScaler\n",
    "from sklearn.metrics import accuracy_score\n",
    "\n",
    "# Load data\n",
    "data = load_breast_cancer()\n",
    "X, y = data.data, data.target\n",
    "\n",
    "# Scale features\n",
    "scaler = StandardScaler()\n",
    "X = scaler.fit_transform(X)\n",
    "\n",
    "# Train-test split\n",
    "X_train, X_test, y_train, y_test = train_test_split(X, y, test_size=0.3, random_state=42)\n",
    "\n",
    "# SVM without feature selection\n",
    "model_full = SVC(kernel='linear')\n",
    "model_full.fit(X_train, y_train)\n",
    "y_pred_full = model_full.predict(X_test)\n",
    "acc_full = accuracy_score(y_test, y_pred_full)\n",
    "\n",
    "# Apply RFE with top 10 features\n",
    "selector = RFE(estimator=SVC(kernel='linear'), n_features_to_select=10)\n",
    "selector.fit(X_train, y_train)\n",
    "\n",
    "# Transform data\n",
    "X_train_rfe = selector.transform(X_train)\n",
    "X_test_rfe = selector.transform(X_test)\n",
    "\n",
    "# Train SVM on reduced features\n",
    "model_rfe = SVC(kernel='linear')\n",
    "model_rfe.fit(X_train_rfe, y_train)\n",
    "y_pred_rfe = model_rfe.predict(X_test_rfe)\n",
    "acc_rfe = accuracy_score(y_test, y_pred_rfe)\n",
    "\n",
    "print(\"Accuracy without RFE:\", acc_full)\n",
    "print(\"Accuracy with RFE (10 features):\", acc_rfe)\n"
   ]
  },
  {
   "cell_type": "markdown",
   "id": "4f54459c",
   "metadata": {},
   "source": [
    "### 41. Write a Python program to train an SVM Classifier and evaluate its performance using Precision, Recall, and F1-Score instead of accuracy"
   ]
  },
  {
   "cell_type": "code",
   "execution_count": 39,
   "id": "c3df8b46",
   "metadata": {},
   "outputs": [
    {
     "name": "stdout",
     "output_type": "stream",
     "text": [
      "Precision: 0.9813084112149533\n",
      "Recall: 0.9722222222222222\n",
      "F1-Score: 0.9767441860465116\n"
     ]
    }
   ],
   "source": [
    "from sklearn.datasets import load_breast_cancer\n",
    "from sklearn.model_selection import train_test_split\n",
    "from sklearn.svm import SVC\n",
    "from sklearn.preprocessing import StandardScaler\n",
    "from sklearn.metrics import precision_score, recall_score, f1_score\n",
    "\n",
    "# Load dataset\n",
    "data = load_breast_cancer()\n",
    "X, y = data.data, data.target\n",
    "\n",
    "# Scale features\n",
    "scaler = StandardScaler()\n",
    "X = scaler.fit_transform(X)\n",
    "\n",
    "# Train-test split\n",
    "X_train, X_test, y_train, y_test = train_test_split(X, y, test_size=0.3, random_state=42)\n",
    "\n",
    "# Train SVM classifier\n",
    "model = SVC(kernel='rbf')\n",
    "model.fit(X_train, y_train)\n",
    "\n",
    "# Predict\n",
    "y_pred = model.predict(X_test)\n",
    "\n",
    "# Evaluate\n",
    "precision = precision_score(y_test, y_pred)\n",
    "recall = recall_score(y_test, y_pred)\n",
    "f1 = f1_score(y_test, y_pred)\n",
    "\n",
    "print(\"Precision:\", precision)\n",
    "print(\"Recall:\", recall)\n",
    "print(\"F1-Score:\", f1)\n"
   ]
  },
  {
   "cell_type": "markdown",
   "id": "bee6eb87",
   "metadata": {},
   "source": [
    "### 42. Write a Python program to train a Naïve Bayes Classifier and evaluate its performance using Log Loss (Cross-Entropy Loss)"
   ]
  },
  {
   "cell_type": "code",
   "execution_count": 40,
   "id": "9e1817e0",
   "metadata": {},
   "outputs": [
    {
     "name": "stdout",
     "output_type": "stream",
     "text": [
      "Log Loss (Cross-Entropy Loss): 0.04896447467183248\n"
     ]
    }
   ],
   "source": [
    "from sklearn.datasets import load_iris\n",
    "from sklearn.model_selection import train_test_split\n",
    "from sklearn.naive_bayes import GaussianNB\n",
    "from sklearn.metrics import log_loss\n",
    "\n",
    "# Load dataset\n",
    "data = load_iris()\n",
    "X, y = data.data, data.target\n",
    "\n",
    "# Split dataset\n",
    "X_train, X_test, y_train, y_test = train_test_split(X, y, test_size=0.3, random_state=42)\n",
    "\n",
    "# Train Naive Bayes classifier\n",
    "model = GaussianNB()\n",
    "model.fit(X_train, y_train)\n",
    "\n",
    "# Predict probabilities\n",
    "y_proba = model.predict_proba(X_test)\n",
    "\n",
    "# Compute Log Loss\n",
    "loss = log_loss(y_test, y_proba)\n",
    "print(\"Log Loss (Cross-Entropy Loss):\", loss)\n"
   ]
  },
  {
   "cell_type": "markdown",
   "id": "ef9aa3ab",
   "metadata": {},
   "source": [
    "### 43. Write a Python program to train an SVM Classifier and visualize the Confusion Matrix using seaborn"
   ]
  },
  {
   "cell_type": "code",
   "execution_count": 41,
   "id": "4e960dfd",
   "metadata": {},
   "outputs": [
    {
     "data": {
      "image/png": "[encoded data removed]",
      "text/plain": [
       "<Figure size 600x400 with 2 Axes>"
      ]
     },
     "metadata": {},
     "output_type": "display_data"
    }
   ],
   "source": [
    "from sklearn.datasets import load_breast_cancer\n",
    "from sklearn.model_selection import train_test_split\n",
    "from sklearn.svm import SVC\n",
    "from sklearn.preprocessing import StandardScaler\n",
    "from sklearn.metrics import confusion_matrix\n",
    "import seaborn as sns\n",
    "import matplotlib.pyplot as plt\n",
    "\n",
    "# Load dataset\n",
    "data = load_breast_cancer()\n",
    "X, y = data.data, data.target\n",
    "\n",
    "# Scale features\n",
    "scaler = StandardScaler()\n",
    "X = scaler.fit_transform(X)\n",
    "\n",
    "# Train-test split\n",
    "X_train, X_test, y_train, y_test = train_test_split(X, y, test_size=0.3, random_state=42)\n",
    "\n",
    "# Train SVM classifier\n",
    "model = SVC()\n",
    "model.fit(X_train, y_train)\n",
    "\n",
    "# Predict\n",
    "y_pred = model.predict(X_test)\n",
    "\n",
    "# Confusion matrix\n",
    "cm = confusion_matrix(y_test, y_pred)\n",
    "\n",
    "# Plot using seaborn\n",
    "plt.figure(figsize=(6, 4))\n",
    "sns.heatmap(cm, annot=True, fmt='d', cmap='Blues', xticklabels=['Benign', 'Malignant'], yticklabels=['Benign', 'Malignant'])\n",
    "plt.title(\"Confusion Matrix\")\n",
    "plt.xlabel(\"Predicted\")\n",
    "plt.ylabel(\"Actual\")\n",
    "plt.show()\n"
   ]
  },
  {
   "cell_type": "markdown",
   "id": "f433a89c",
   "metadata": {},
   "source": [
    "### 44. Write a Python program to train an SVM Regressor (SVR) and evaluate its performance using Mean Absolute Error (MAE) instead of MSE"
   ]
  },
  {
   "cell_type": "code",
   "execution_count": null,
   "id": "3d1e6777",
   "metadata": {},
   "outputs": [],
   "source": [
    "from sklearn.datasets import fetch_california_housing\n",
    "from sklearn.model_selection import train_test_split\n",
    "from sklearn.svm import SVR\n",
    "from sklearn.preprocessing import StandardScaler\n",
    "from sklearn.metrics import mean_absolute_error\n",
    "\n",
    "# Load dataset\n",
    "data = fetch_california_housing()\n",
    "X, y = data.data, data.target\n",
    "\n",
    "# Scale features\n",
    "scaler = StandardScaler()\n",
    "X = scaler.fit_transform(X)\n",
    "\n",
    "# Train-test split\n",
    "X_train, X_test, y_train, y_test = train_test_split(X, y, test_size=0.3, random_state=42)\n",
    "\n",
    "# Train SVR model\n",
    "model = SVR()\n",
    "model.fit(X_train, y_train)\n",
    "\n",
    "# Predict and evaluate\n",
    "y_pred = model.predict(X_test)\n",
    "mae = mean_absolute_error(y_test, y_pred)\n",
    "print(\"Mean Absolute Error (MAE):\", mae)\n"
   ]
  },
  {
   "cell_type": "markdown",
   "id": "86cf5ae1",
   "metadata": {},
   "source": [
    "### 45. Write a Python program to train a Naïve Bayes classifier and evaluate its performance using the ROC-AUC score"
   ]
  },
  {
   "cell_type": "code",
   "execution_count": null,
   "id": "2db1905a",
   "metadata": {},
   "outputs": [],
   "source": [
    "from sklearn.datasets import load_breast_cancer\n",
    "from sklearn.model_selection import train_test_split\n",
    "from sklearn.naive_bayes import GaussianNB\n",
    "from sklearn.metrics import roc_auc_score\n",
    "\n",
    "# Load dataset\n",
    "data = load_breast_cancer()\n",
    "X, y = data.data, data.target\n",
    "\n",
    "# Split data\n",
    "X_train, X_test, y_train, y_test = train_test_split(X, y, test_size=0.3, random_state=42)\n",
    "\n",
    "# Train Gaussian Naive Bayes\n",
    "model = GaussianNB()\n",
    "model.fit(X_train, y_train)\n",
    "\n",
    "# Predict probabilities\n",
    "y_proba = model.predict_proba(X_test)[:, 1]  # Get probabilities for the positive class\n",
    "\n",
    "# Evaluate using ROC-AUC score\n",
    "roc_auc = roc_auc_score(y_test, y_proba)\n",
    "print(\"ROC-AUC Score:\", roc_auc)\n"
   ]
  },
  {
   "cell_type": "markdown",
   "id": "d6f2fafc",
   "metadata": {},
   "source": [
    "### 46. Write a Python program to train an SVM Classifier and visualize the Precision-Recall Curve"
   ]
  },
  {
   "cell_type": "code",
   "execution_count": null,
   "id": "42e2a0a0",
   "metadata": {},
   "outputs": [],
   "source": [
    "from sklearn.datasets import load_breast_cancer\n",
    "from sklearn.model_selection import train_test_split\n",
    "from sklearn.svm import SVC\n",
    "from sklearn.preprocessing import StandardScaler\n",
    "from sklearn.metrics import precision_recall_curve, PrecisionRecallDisplay\n",
    "import matplotlib.pyplot as plt\n",
    "\n",
    "# Load dataset\n",
    "data = load_breast_cancer()\n",
    "X, y = data.data, data.target\n",
    "\n",
    "# Scale features\n",
    "scaler = StandardScaler()\n",
    "X = scaler.fit_transform(X)\n",
    "\n",
    "# Train-test split\n",
    "X_train, X_test, y_train, y_test = train_test_split(X, y, test_size=0.3, random_state=42)\n",
    "\n",
    "# Train SVM classifier with probability estimates\n",
    "model = SVC(probability=True)\n",
    "model.fit(X_train, y_train)\n",
    "\n",
    "# Predict probabilities\n",
    "y_scores = model.predict_proba(X_test)[:, 1]\n",
    "\n",
    "# Compute precision-recall pairs\n",
    "precision, recall, _ = precision_recall_curve(y_test, y_scores)\n",
    "\n",
    "# Plot the curve\n",
    "disp = PrecisionRecallDisplay(precision=precision, recall=recall)\n",
    "disp.plot()\n",
    "plt.title(\"Precision-Recall Curve\")\n",
    "plt.show()\n"
   ]
  }
 ],
 "metadata": {
  "kernelspec": {
   "display_name": "Python 3 (ipykernel)",
   "language": "python",
   "name": "python3"
  },
  "language_info": {
   "codemirror_mode": {
    "name": "ipython",
    "version": 3
   },
   "file_extension": ".py",
   "mimetype": "text/x-python",
   "name": "python",
   "nbconvert_exporter": "python",
   "pygments_lexer": "ipython3",
   "version": "3.12.7"
  }
 },
 "nbformat": 4,
 "nbformat_minor": 5
}
